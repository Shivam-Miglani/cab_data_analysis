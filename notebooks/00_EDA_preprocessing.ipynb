{
 "cells": [
  {
   "cell_type": "code",
   "execution_count": 22,
   "metadata": {},
   "outputs": [],
   "source": [
    "import pandas as pd\n",
    "import numpy as np\n",
    "import matplotlib.pyplot as plt\n",
    "import seaborn as sns\n",
    "from pathlib import Path\n",
    "\n",
    "# as 5 decimal places are there in latitude and longitude\n",
    "pd.options.display.float_format = '{:0.5f}'.format "
   ]
  },
  {
   "cell_type": "code",
   "execution_count": null,
   "metadata": {},
   "outputs": [],
   "source": [
    "# download data\n",
    "!wget https://github.com/PDXostc/rvi_big_data/raw/master/cabspottingdata.tar.gz\n",
    "!tar -xvf ./cabspottingdata.tar.gz -C ../data/raw_data\n",
    "!rm cabspottingdata.tar.gz"
   ]
  },
  {
   "cell_type": "markdown",
   "metadata": {},
   "source": [
    "# Business Objectives\n",
    "I took the liberty to formulate some business objectives for the given tasks:\n",
    "\n",
    "---\n",
    "\n",
    "1. Give insights into yearly CO2 emissions 🚕☁☁\n",
    "     - `Task1: Calculate potential yearly CO2 emissions reduction (caused by empty cabs)`\n",
    "2. Help taxi drivers achieve less CO2 emissions and gain more profit 🙎🏼‍♂️🙎🏽‍♀️💲🌳\n",
    "     - `Task2: Build predictor for taxi drivers that predicts the next place a passenger will hail a cab`\n",
    "3. Taxi cab company wants to optimize for gross margin, profits, market share and CO2 emissions 💲💲🌳 \n",
    "     - `Task3: Cluster taxis to gain insights`"
   ]
  },
  {
   "cell_type": "code",
   "execution_count": 29,
   "metadata": {},
   "outputs": [
    {
     "name": "stdout",
     "output_type": "stream",
     "text": [
      "data shape: (11220058, 5)\n"
     ]
    },
    {
     "data": {
      "text/html": [
       "<div>\n",
       "<style scoped>\n",
       "    .dataframe tbody tr th:only-of-type {\n",
       "        vertical-align: middle;\n",
       "    }\n",
       "\n",
       "    .dataframe tbody tr th {\n",
       "        vertical-align: top;\n",
       "    }\n",
       "\n",
       "    .dataframe thead th {\n",
       "        text-align: right;\n",
       "    }\n",
       "</style>\n",
       "<table border=\"1\" class=\"dataframe\">\n",
       "  <thead>\n",
       "    <tr style=\"text-align: right;\">\n",
       "      <th></th>\n",
       "      <th>lat</th>\n",
       "      <th>lng</th>\n",
       "      <th>occupancy</th>\n",
       "      <th>datetime</th>\n",
       "      <th>cab_id</th>\n",
       "    </tr>\n",
       "  </thead>\n",
       "  <tbody>\n",
       "    <tr>\n",
       "      <th>3551194</th>\n",
       "      <td>37.75191</td>\n",
       "      <td>-122.39458</td>\n",
       "      <td>0</td>\n",
       "      <td>2008-05-17 13:16:43</td>\n",
       "      <td>new_ubjaju</td>\n",
       "    </tr>\n",
       "    <tr>\n",
       "      <th>7602943</th>\n",
       "      <td>37.61775</td>\n",
       "      <td>-122.38722</td>\n",
       "      <td>0</td>\n",
       "      <td>2008-05-29 04:54:10</td>\n",
       "      <td>new_artgagvu</td>\n",
       "    </tr>\n",
       "    <tr>\n",
       "      <th>2317844</th>\n",
       "      <td>37.77423</td>\n",
       "      <td>-122.47900</td>\n",
       "      <td>1</td>\n",
       "      <td>2008-05-26 05:41:25</td>\n",
       "      <td>new_ijprukfr</td>\n",
       "    </tr>\n",
       "    <tr>\n",
       "      <th>1436777</th>\n",
       "      <td>37.76090</td>\n",
       "      <td>-122.43467</td>\n",
       "      <td>0</td>\n",
       "      <td>2008-05-26 09:23:23</td>\n",
       "      <td>new_aggjuo</td>\n",
       "    </tr>\n",
       "    <tr>\n",
       "      <th>10774860</th>\n",
       "      <td>37.77976</td>\n",
       "      <td>-122.41023</td>\n",
       "      <td>1</td>\n",
       "      <td>2008-06-08 11:08:02</td>\n",
       "      <td>new_edomboys</td>\n",
       "    </tr>\n",
       "  </tbody>\n",
       "</table>\n",
       "</div>"
      ],
      "text/plain": [
       "              lat        lng occupancy            datetime        cab_id\n",
       "3551194  37.75191 -122.39458         0 2008-05-17 13:16:43    new_ubjaju\n",
       "7602943  37.61775 -122.38722         0 2008-05-29 04:54:10  new_artgagvu\n",
       "2317844  37.77423 -122.47900         1 2008-05-26 05:41:25  new_ijprukfr\n",
       "1436777  37.76090 -122.43467         0 2008-05-26 09:23:23    new_aggjuo\n",
       "10774860 37.77976 -122.41023         1 2008-06-08 11:08:02  new_edomboys"
      ]
     },
     "execution_count": 29,
     "metadata": {},
     "output_type": "execute_result"
    }
   ],
   "source": [
    "# read all txt files into dataframes and append them into one df\n",
    "file_generator = Path(r'../data/raw_data/cabspottingdata').glob('*.txt')\n",
    "cabs_data = []\n",
    "for file in file_generator:\n",
    "  df = pd.read_csv(file, \n",
    "              header=None, \n",
    "              delimiter=' ')\n",
    "  df['cab_id'] = file.stem\n",
    "  cabs_data.append(df)\n",
    "\n",
    "# concatenate all data into one df\n",
    "cabs_df = pd.concat(cabs_data, ignore_index=True)\n",
    "print(f\"data shape: {cabs_df.shape}\")\n",
    "cabs_df.columns = ['lat', 'lng', 'occupancy', 'datetime', 'cab_id']\n",
    "cabs_df['datetime'] = pd.to_datetime(cabs_df['datetime'],unit='s')\n",
    "cabs_df['occupancy'] = cabs_df.occupancy.astype('category')\n",
    "cabs_df['cab_id'] = cabs_df.cab_id.astype('category')\n",
    "cabs_df.sample(5)"
   ]
  },
  {
   "cell_type": "code",
   "execution_count": null,
   "metadata": {},
   "outputs": [],
   "source": [
    "# cabs_df.head(50)"
   ]
  },
  {
   "cell_type": "code",
   "execution_count": 15,
   "metadata": {},
   "outputs": [
    {
     "name": "stdout",
     "output_type": "stream",
     "text": [
      "537\n",
      "538\n"
     ]
    }
   ],
   "source": [
    "# quality check 1: check if all files are read\n",
    "print(len(cabs_data))  # no. of files\n",
    "!ls -l ../data/raw_data/cabspottingdata | egrep -c '^-'  # 537 txt files + 1 README"
   ]
  },
  {
   "cell_type": "markdown",
   "metadata": {},
   "source": [
    "# EDA"
   ]
  },
  {
   "cell_type": "code",
   "execution_count": 30,
   "metadata": {},
   "outputs": [
    {
     "data": {
      "text/plain": [
       "lat          False\n",
       "lng          False\n",
       "occupancy    False\n",
       "datetime     False\n",
       "cab_id       False\n",
       "dtype: bool"
      ]
     },
     "execution_count": 30,
     "metadata": {},
     "output_type": "execute_result"
    }
   ],
   "source": [
    "# check null values\n",
    "cabs_df.isna().any()"
   ]
  },
  {
   "cell_type": "code",
   "execution_count": 31,
   "metadata": {},
   "outputs": [
    {
     "name": "stdout",
     "output_type": "stream",
     "text": [
      "<class 'pandas.core.frame.DataFrame'>\n",
      "RangeIndex: 11220058 entries, 0 to 11220057\n",
      "Data columns (total 5 columns):\n",
      " #   Column     Dtype         \n",
      "---  ------     -----         \n",
      " 0   lat        float64       \n",
      " 1   lng        float64       \n",
      " 2   occupancy  category      \n",
      " 3   datetime   datetime64[ns]\n",
      " 4   cab_id     category      \n",
      "dtypes: category(2), datetime64[ns](1), float64(2)\n",
      "memory usage: 288.9 MB\n"
     ]
    }
   ],
   "source": [
    "# check dtypes\n",
    "cabs_df.info()"
   ]
  },
  {
   "cell_type": "code",
   "execution_count": 32,
   "metadata": {},
   "outputs": [
    {
     "data": {
      "text/html": [
       "<div>\n",
       "<style scoped>\n",
       "    .dataframe tbody tr th:only-of-type {\n",
       "        vertical-align: middle;\n",
       "    }\n",
       "\n",
       "    .dataframe tbody tr th {\n",
       "        vertical-align: top;\n",
       "    }\n",
       "\n",
       "    .dataframe thead th {\n",
       "        text-align: right;\n",
       "    }\n",
       "</style>\n",
       "<table border=\"1\" class=\"dataframe\">\n",
       "  <thead>\n",
       "    <tr style=\"text-align: right;\">\n",
       "      <th></th>\n",
       "      <th>lat</th>\n",
       "      <th>lng</th>\n",
       "      <th>occupancy</th>\n",
       "      <th>datetime</th>\n",
       "      <th>cab_id</th>\n",
       "    </tr>\n",
       "  </thead>\n",
       "  <tbody>\n",
       "    <tr>\n",
       "      <th>count</th>\n",
       "      <td>11220058.00000</td>\n",
       "      <td>11220058.00000</td>\n",
       "      <td>11220058.00000</td>\n",
       "      <td>11220058</td>\n",
       "      <td>11220058</td>\n",
       "    </tr>\n",
       "    <tr>\n",
       "      <th>unique</th>\n",
       "      <td>NaN</td>\n",
       "      <td>NaN</td>\n",
       "      <td>2.00000</td>\n",
       "      <td>NaN</td>\n",
       "      <td>537</td>\n",
       "    </tr>\n",
       "    <tr>\n",
       "      <th>top</th>\n",
       "      <td>NaN</td>\n",
       "      <td>NaN</td>\n",
       "      <td>0.00000</td>\n",
       "      <td>NaN</td>\n",
       "      <td>new_upthin</td>\n",
       "    </tr>\n",
       "    <tr>\n",
       "      <th>freq</th>\n",
       "      <td>NaN</td>\n",
       "      <td>NaN</td>\n",
       "      <td>6202181.00000</td>\n",
       "      <td>NaN</td>\n",
       "      <td>49367</td>\n",
       "    </tr>\n",
       "    <tr>\n",
       "      <th>mean</th>\n",
       "      <td>37.76360</td>\n",
       "      <td>-122.41243</td>\n",
       "      <td>NaN</td>\n",
       "      <td>2008-05-29 04:46:18.243580416</td>\n",
       "      <td>NaN</td>\n",
       "    </tr>\n",
       "    <tr>\n",
       "      <th>min</th>\n",
       "      <td>32.86970</td>\n",
       "      <td>-127.08143</td>\n",
       "      <td>NaN</td>\n",
       "      <td>2008-05-17 10:00:04</td>\n",
       "      <td>NaN</td>\n",
       "    </tr>\n",
       "    <tr>\n",
       "      <th>25%</th>\n",
       "      <td>37.75513</td>\n",
       "      <td>-122.42525</td>\n",
       "      <td>NaN</td>\n",
       "      <td>2008-05-23 06:07:18</td>\n",
       "      <td>NaN</td>\n",
       "    </tr>\n",
       "    <tr>\n",
       "      <th>50%</th>\n",
       "      <td>37.78106</td>\n",
       "      <td>-122.41106</td>\n",
       "      <td>NaN</td>\n",
       "      <td>2008-05-29 06:40:09</td>\n",
       "      <td>NaN</td>\n",
       "    </tr>\n",
       "    <tr>\n",
       "      <th>75%</th>\n",
       "      <td>37.79045</td>\n",
       "      <td>-122.40027</td>\n",
       "      <td>NaN</td>\n",
       "      <td>2008-06-04 03:06:47</td>\n",
       "      <td>NaN</td>\n",
       "    </tr>\n",
       "    <tr>\n",
       "      <th>max</th>\n",
       "      <td>50.30546</td>\n",
       "      <td>-115.56218</td>\n",
       "      <td>NaN</td>\n",
       "      <td>2008-06-10 09:25:34</td>\n",
       "      <td>NaN</td>\n",
       "    </tr>\n",
       "    <tr>\n",
       "      <th>std</th>\n",
       "      <td>0.05386</td>\n",
       "      <td>0.03578</td>\n",
       "      <td>NaN</td>\n",
       "      <td>NaN</td>\n",
       "      <td>NaN</td>\n",
       "    </tr>\n",
       "  </tbody>\n",
       "</table>\n",
       "</div>"
      ],
      "text/plain": [
       "                  lat            lng      occupancy  \\\n",
       "count  11220058.00000 11220058.00000 11220058.00000   \n",
       "unique            NaN            NaN        2.00000   \n",
       "top               NaN            NaN        0.00000   \n",
       "freq              NaN            NaN  6202181.00000   \n",
       "mean         37.76360     -122.41243            NaN   \n",
       "min          32.86970     -127.08143            NaN   \n",
       "25%          37.75513     -122.42525            NaN   \n",
       "50%          37.78106     -122.41106            NaN   \n",
       "75%          37.79045     -122.40027            NaN   \n",
       "max          50.30546     -115.56218            NaN   \n",
       "std           0.05386        0.03578            NaN   \n",
       "\n",
       "                             datetime      cab_id  \n",
       "count                        11220058    11220058  \n",
       "unique                            NaN         537  \n",
       "top                               NaN  new_upthin  \n",
       "freq                              NaN       49367  \n",
       "mean    2008-05-29 04:46:18.243580416         NaN  \n",
       "min               2008-05-17 10:00:04         NaN  \n",
       "25%               2008-05-23 06:07:18         NaN  \n",
       "50%               2008-05-29 06:40:09         NaN  \n",
       "75%               2008-06-04 03:06:47         NaN  \n",
       "max               2008-06-10 09:25:34         NaN  \n",
       "std                               NaN         NaN  "
      ]
     },
     "execution_count": 32,
     "metadata": {},
     "output_type": "execute_result"
    }
   ],
   "source": [
    "# descriptive stats\n",
    "cabs_df.describe(include='all', datetime_is_numeric=True)"
   ]
  },
  {
   "cell_type": "code",
   "execution_count": 33,
   "metadata": {},
   "outputs": [
    {
     "data": {
      "text/plain": [
       "0    6202181\n",
       "1    5017877\n",
       "Name: occupancy, dtype: int64"
      ]
     },
     "execution_count": 33,
     "metadata": {},
     "output_type": "execute_result"
    }
   ],
   "source": [
    "# value counts\n",
    "cabs_df.occupancy.value_counts()"
   ]
  },
  {
   "cell_type": "markdown",
   "metadata": {},
   "source": [
    "### Observations\n",
    "- 537 cabs\n",
    "- no null vals\n",
    "- duration ~ 24 days (17th May 2008 to 10th June 2008)\n",
    "- 11.2 mil samples, sampled almost every minute\n",
    "- 6.2 mil (unoccupied) vs 5 mil (occupied)\n",
    "- we need to calculate distance from lat,lng\n",
    "- specifically for task 1 (potential co2 reduction estimation), we need to calculate distance of TRIPS\n",
    "  - Trip can be defined as the ride and duration until car occupancy changes status (going from 0 to 1, or from 1 to 0)\n"
   ]
  },
  {
   "cell_type": "markdown",
   "metadata": {},
   "source": [
    "### Exploring locations in data using google maps\n",
    "- Using minimum and maximum coordinates (lat,lng) to draw a bounding box on google map (yellow box)\n",
    "- Two coords are in sea and box is a perfect square\n",
    "    - indication of synthetic data\n",
    "- Road distance between corner points (Blue lines)\n",
    "- Mean and median locations (star markers)\n",
    "  - std is not much\n",
    "  - which implies, these are busy location\n",
    "\n",
    "#### Lat Lng bounding box - normal map\n",
    "\n",
    "![SF bounding box](../images/latlng_bb_normal.png)\n",
    "\n",
    "#### Lat Lng bounding box - elevation map\n",
    "\n",
    "![SF 3d bounding box](../images/latlng_bb_elevation.png)\n",
    "\n",
    "#### SanFrancisco Road Network with live traffic\n",
    "\n",
    "![SF live traffic](../images/sf_road_nw_live_traffic.png)"
   ]
  },
  {
   "cell_type": "markdown",
   "metadata": {},
   "source": [
    "### Cab distributions"
   ]
  },
  {
   "cell_type": "code",
   "execution_count": 51,
   "metadata": {},
   "outputs": [
    {
     "data": {
      "image/png": "[encoded data removed]",
      "text/plain": [
       "<Figure size 2000x600 with 1 Axes>"
      ]
     },
     "metadata": {},
     "output_type": "display_data"
    }
   ],
   "source": [
    "# num of samples \n",
    "plt.figure(figsize=(20,6))\n",
    "ax = sns.countplot(x=\"cab_id\", data=cabs_df, hue='occupancy')\n",
    "ax.set(xticklabels=[]) \n",
    "ax.tick_params(bottom=False)"
   ]
  },
  {
   "cell_type": "code",
   "execution_count": null,
   "metadata": {},
   "outputs": [],
   "source": []
  },
  {
   "cell_type": "markdown",
   "metadata": {},
   "source": []
  }
 ],
 "metadata": {
  "kernelspec": {
   "display_name": "Python 3.7.9 ('.venv': venv)",
   "language": "python",
   "name": "python3"
  },
  "language_info": {
   "codemirror_mode": {
    "name": "ipython",
    "version": 3
   },
   "file_extension": ".py",
   "mimetype": "text/x-python",
   "name": "python",
   "nbconvert_exporter": "python",
   "pygments_lexer": "ipython3",
   "version": "3.7.9"
  },
  "orig_nbformat": 4,
  "vscode": {
   "interpreter": {
    "hash": "afeadccc50a4775874c632ebc2314ed4d532ca40585c273cdcf0d49c41f314f1"
   }
  }
 },
 "nbformat": 4,
 "nbformat_minor": 2
}
